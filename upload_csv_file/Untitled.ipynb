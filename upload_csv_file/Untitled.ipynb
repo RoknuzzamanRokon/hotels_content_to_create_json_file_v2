{
 "cells": [
  {
   "cell_type": "code",
   "execution_count": 5,
   "id": "08a971d6-f87f-4fe1-b19d-33d544f67472",
   "metadata": {},
   "outputs": [
    {
     "name": "stdout",
     "output_type": "stream",
     "text": [
      "Headers saved to ['UnicaId', 'Name', 'Latitude', 'Longitude', 'AddressLine1', 'AddressLine2', 'CityName', 'StateName', 'StateCode', 'CountryName', 'CountryCode', 'PostalCode', 'Rating', 'PropertyType', 'ChainName', 'ChainCode', 'BrandName', 'CityCode', 'CityLocationId', 'MasterCityName', 'LocationIds', 'Phones', 'Emails', 'Fax', 'Website', 'AirportCodes', 'TrainStations', 'ProviderHotelId', 'ProviderFamily', 'GooglePlusCode', 'GooglePlaceId', 'Tags']\n"
     ]
    }
   ],
   "source": [
    "import pandas as pd\n",
    "\n",
    "csv_file = \"D:/Rokon/gtrs_hotels_2b547cba-9ee9-4bcd-a09e-806ae724df3f.csv\"\n",
    "\n",
    "# Load only the headers\n",
    "df = pd.read_csv(csv_file, nrows=0)  # Read only the header row\n",
    "headers = df.columns.tolist()\n",
    "\n",
    "\n",
    "print(f\"Headers saved to {headers}\")\n",
    "\n"
   ]
  },
  {
   "cell_type": "code",
   "execution_count": 3,
   "id": "f24cbcae-a1fb-4e30-afdb-0766a50e21f4",
   "metadata": {
    "collapsed": true,
    "jupyter": {
     "outputs_hidden": true
    },
    "scrolled": true
   },
   "outputs": [
    {
     "name": "stdout",
     "output_type": "stream",
     "text": [
      "     UnicaId ProviderHotelId ProviderFamily              ModifiedOn  \\\n",
      "0   16188944         1000000          Agoda  10/11/2024 11:56:29 PM   \n",
      "1   17008826        10000072          Agoda    5/16/2024 4:55:54 AM   \n",
      "2   31069110         1000009          Agoda   10/11/2024 9:44:38 PM   \n",
      "3   39654021          100001          Agoda    9/13/2024 1:53:29 AM   \n",
      "4   39743166         1000020          Agoda   10/10/2024 2:43:10 AM   \n",
      "..       ...             ...            ...                     ...   \n",
      "95  15299150          100041          Agoda    5/12/2024 3:20:44 PM   \n",
      "96  15687566         1000420          Agoda   10/11/2024 2:42:05 PM   \n",
      "97  32177111        10004220          Agoda   8/24/2024 11:31:32 AM   \n",
      "98  15614587         1000422          Agoda   10/25/2023 6:42:27 AM   \n",
      "99  39628456         1000423          Agoda    10/8/2024 7:21:24 PM   \n",
      "\n",
      "   ChannelIds ProviderLocationCode  \n",
      "0         NaN                  NaN  \n",
      "1         NaN                  NaN  \n",
      "2         NaN                  NaN  \n",
      "3         NaN                  NaN  \n",
      "4         NaN                  NaN  \n",
      "..        ...                  ...  \n",
      "95        NaN                  NaN  \n",
      "96        NaN                  NaN  \n",
      "97        NaN                  NaN  \n",
      "98        NaN                  NaN  \n",
      "99        NaN                  NaN  \n",
      "\n",
      "[100 rows x 6 columns]\n",
      "Headers saved to ['UnicaId', 'ProviderHotelId', 'ProviderFamily', 'ModifiedOn', 'ChannelIds', 'ProviderLocationCode']\n"
     ]
    }
   ],
   "source": [
    "import pandas as pd\n",
    "\n",
    "# Define the data types for the columns\n",
    "dtype_dict = {\n",
    "    'UnicaId': str,\n",
    "    'ProviderHotelId': str,\n",
    "    'ProviderFamily': str,\n",
    "    'ModifiedOn': str,  \n",
    "    'ChannelIds': str,\n",
    "    'ProviderLocationCode': str\n",
    "}\n",
    "\n",
    "csv_file = \"D:/Rokon/gtrs_mappings_2b547cba-9ee9-4bcd-a09e-806ae724df3f.csv\"\n",
    "\n",
    "# Load only the headers\n",
    "df = pd.read_csv(csv_file, nrows=0)  # Read only the header row\n",
    "headers = df.columns.tolist()\n",
    "\n",
    "# Load only the first 100 rows with the specified data types\n",
    "df = pd.read_csv(csv_file, dtype=dtype_dict, nrows=100)  # Load only the first 100 rows\n",
    "\n",
    "print(df)\n",
    "print(f\"Headers saved to {headers}\")\n"
   ]
  },
  {
   "cell_type": "code",
   "execution_count": 4,
   "id": "32bbd239-ae7e-47ff-ba9e-d39f328d76aa",
   "metadata": {
    "collapsed": true,
    "jupyter": {
     "outputs_hidden": true
    }
   },
   "outputs": [
    {
     "name": "stdout",
     "output_type": "stream",
     "text": [
      "    UnicaId ProviderHotelId ProviderFamily              ModifiedOn ChannelIds  \\\n",
      "0  16188944         1000000          Agoda  10/11/2024 11:56:29 PM        NaN   \n",
      "1  17008826        10000072          Agoda    5/16/2024 4:55:54 AM        NaN   \n",
      "2  31069110         1000009          Agoda   10/11/2024 9:44:38 PM        NaN   \n",
      "3  39654021          100001          Agoda    9/13/2024 1:53:29 AM        NaN   \n",
      "4  39743166         1000020          Agoda   10/10/2024 2:43:10 AM        NaN   \n",
      "\n",
      "  ProviderLocationCode  \n",
      "0                  NaN  \n",
      "1                  NaN  \n",
      "2                  NaN  \n",
      "3                  NaN  \n",
      "4                  NaN  \n"
     ]
    }
   ],
   "source": [
    "import pandas as pd\n",
    "import mysql.connector\n",
    "from mysql.connector import Error\n",
    "\n",
    "csv_file = \"D:/Rokon/gtrs_mappings_2b547cba-9ee9-4bcd-a09e-806ae724df3f.csv\"\n",
    "\n",
    "# Read the file with specific memory limits\n",
    "df = pd.read_csv(csv_file, dtype=dtype_dict, low_memory=False)\n",
    "\n",
    "print(df.head())  # Check the first few rows to see if the file was read properly\n"
   ]
  },
  {
   "cell_type": "code",
   "execution_count": null,
   "id": "a6c9e71d-11b2-4abc-8d75-3675cd8a3068",
   "metadata": {
    "scrolled": true
   },
   "outputs": [],
   "source": [
    "import pandas as pd\n",
    "import mysql.connector\n",
    "from mysql.connector import Error\n",
    "\n",
    "dtype_dict = {\n",
    "    'UnicaId': str,\n",
    "    'ProviderHotelId': str,\n",
    "    'ProviderFamily': str,\n",
    "    'ModifiedOn': str,  \n",
    "    'ChannelIds': str,\n",
    "    'ProviderLocationCode': str\n",
    "}\n",
    "\n",
    "csv_file = \"D:/Rokon/gtrs_mappings_2b547cba-9ee9-4bcd-a09e-806ae724df3f.csv\"\n",
    "\n",
    "df = pd.read_csv(csv_file, dtype=dtype_dict)\n",
    "\n",
    "# Convert ModifiedOn to datetime\n",
    "df['ModifiedOn'] = pd.to_datetime(df['ModifiedOn'], format='%m/%d/%Y %I:%M:%S %p')\n",
    "\n",
    "# Fill NaN values - Set string columns to None for SQL NULL representation\n",
    "df = df.where(pd.notnull(df), None)\n",
    "\n",
    "header = df.columns.tolist()\n",
    "print(\"Header:\", header)\n",
    "# print(\"Length of header:\", len(header))\n",
    "# print(df)  \n",
    "\n",
    "try:\n",
    "    connection = mysql.connector.connect(\n",
    "        host=\"localhost\",\n",
    "        user=\"root\",\n",
    "        password=\"\",  \n",
    "        database=\"innova_db_v1.25\"\n",
    "    )\n",
    "\n",
    "    if connection.is_connected():\n",
    "        cursor = connection.cursor()\n",
    "\n",
    "        # Create the info_01 table if it doesn't exist\n",
    "        create_table_query = '''\n",
    "        CREATE TABLE IF NOT EXISTS gtrs_mappings (\n",
    "            UnicaId VARCHAR(255),\n",
    "            ProviderHotelId VARCHAR(255),\n",
    "            ProviderFamily VARCHAR(255),\n",
    "            ModifiedOn DATETIME,\n",
    "            ChannelIds VARCHAR(255),\n",
    "            ProviderLocationCode VARCHAR(255)\n",
    "        );\n",
    "        '''\n",
    "\n",
    "        cursor.execute(create_table_query)\n",
    "\n",
    "        # Prepare the insert statement for the info_01 table\n",
    "        insert_query = '''INSERT INTO gtrs_mappings (UnicaId, ProviderHotelId, ProviderFamily, ModifiedOn, ChannelIds, ProviderLocationCode)\n",
    "                          VALUES (%s, %s, %s, %s, %s, %s)'''\n",
    "\n",
    "        num = 0\n",
    "        # Iterate over DataFrame rows and insert data\n",
    "        for i, row in df.iterrows():\n",
    "            cursor.execute(insert_query, tuple(row))\n",
    "            connection.commit()  \n",
    "            print(f\"{num}: Successfully loaded.\")\n",
    "            num += 1\n",
    "\n",
    "        print(\"Data inserted successfully\")\n",
    "except Error as e:\n",
    "    print(f\"Error while connecting to MySql: {e}\")\n",
    "\n",
    "finally:\n",
    "    if connection.is_connected():\n",
    "        cursor.close()\n",
    "        connection.close()\n",
    "        print(\"MySql connection closed\")\n"
   ]
  },
  {
   "cell_type": "code",
   "execution_count": null,
   "id": "6b964233-fa4a-4904-b89b-61e6e064350c",
   "metadata": {},
   "outputs": [],
   "source": []
  },
  {
   "cell_type": "code",
   "execution_count": null,
   "id": "d01c7428-82ce-409c-929c-744c2bd75902",
   "metadata": {},
   "outputs": [],
   "source": []
  }
 ],
 "metadata": {
  "kernelspec": {
   "display_name": "Python 3 (ipykernel)",
   "language": "python",
   "name": "python3"
  },
  "language_info": {
   "codemirror_mode": {
    "name": "ipython",
    "version": 3
   },
   "file_extension": ".py",
   "mimetype": "text/x-python",
   "name": "python",
   "nbconvert_exporter": "python",
   "pygments_lexer": "ipython3",
   "version": "3.12.8"
  }
 },
 "nbformat": 4,
 "nbformat_minor": 5
}
